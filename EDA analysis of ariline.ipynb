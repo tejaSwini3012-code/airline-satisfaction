{
 "cells": [
  {
   "cell_type": "code",
   "execution_count": 14,
   "id": "3c890342-0c29-4ea7-83e9-0da32bdf2072",
   "metadata": {},
   "outputs": [
    {
     "name": "stdout",
     "output_type": "stream",
     "text": [
      "   Unnamed: 0      id  Gender  Customer Type  Age  Type of Travel  Class  \\\n",
      "0           0   70172       1              0   13               1      2   \n",
      "1           1    5047       1              1   25               0      0   \n",
      "2           2  110028       0              0   26               0      0   \n",
      "3           3   24026       0              0   25               0      0   \n",
      "4           4  119299       1              0   61               0      0   \n",
      "\n",
      "   Flight Distance  Inflight wifi service  Departure/Arrival time convenient  \\\n",
      "0              460                      3                                  4   \n",
      "1              235                      3                                  2   \n",
      "2             1142                      2                                  2   \n",
      "3              562                      2                                  5   \n",
      "4              214                      3                                  3   \n",
      "\n",
      "   ...  Inflight entertainment  On-board service  Leg room service  \\\n",
      "0  ...                       5                 4                 3   \n",
      "1  ...                       1                 1                 5   \n",
      "2  ...                       5                 4                 3   \n",
      "3  ...                       2                 2                 5   \n",
      "4  ...                       3                 3                 4   \n",
      "\n",
      "   Baggage handling  Checkin service  Inflight service  Cleanliness  \\\n",
      "0                 4                4                 5            5   \n",
      "1                 3                1                 4            1   \n",
      "2                 4                4                 4            5   \n",
      "3                 3                1                 4            2   \n",
      "4                 4                3                 3            3   \n",
      "\n",
      "   Departure Delay in Minutes  Arrival Delay in Minutes  satisfaction  \n",
      "0                          25                      18.0             0  \n",
      "1                           1                       6.0             0  \n",
      "2                           0                       0.0             1  \n",
      "3                          11                       9.0             0  \n",
      "4                           0                       0.0             1  \n",
      "\n",
      "[5 rows x 25 columns]\n"
     ]
    }
   ],
   "source": [
    "# Display the first few rows of the dataset\n",
    "print(df_encoded.head())"
   ]
  },
  {
   "cell_type": "code",
   "execution_count": 15,
   "id": "1b084089-0b5e-43a2-b5ef-88148d07d979",
   "metadata": {},
   "outputs": [
    {
     "name": "stdout",
     "output_type": "stream",
     "text": [
      "          Unnamed: 0             id            Age  Flight Distance  \\\n",
      "count  103904.000000  103904.000000  103904.000000    103904.000000   \n",
      "mean    51951.500000   64924.210502      39.379706      1189.448375   \n",
      "std     29994.645522   37463.812252      15.114964       997.147281   \n",
      "min         0.000000       1.000000       7.000000        31.000000   \n",
      "25%     25975.750000   32533.750000      27.000000       414.000000   \n",
      "50%     51951.500000   64856.500000      40.000000       843.000000   \n",
      "75%     77927.250000   97368.250000      51.000000      1743.000000   \n",
      "max    103903.000000  129880.000000      85.000000      4983.000000   \n",
      "\n",
      "       Inflight wifi service  Departure/Arrival time convenient  \\\n",
      "count          103904.000000                      103904.000000   \n",
      "mean                2.729683                           3.060296   \n",
      "std                 1.327829                           1.525075   \n",
      "min                 0.000000                           0.000000   \n",
      "25%                 2.000000                           2.000000   \n",
      "50%                 3.000000                           3.000000   \n",
      "75%                 4.000000                           4.000000   \n",
      "max                 5.000000                           5.000000   \n",
      "\n",
      "       Ease of Online booking  Gate location  Food and drink  Online boarding  \\\n",
      "count           103904.000000  103904.000000   103904.000000    103904.000000   \n",
      "mean                 2.756901       2.976883        3.202129         3.250375   \n",
      "std                  1.398929       1.277621        1.329533         1.349509   \n",
      "min                  0.000000       0.000000        0.000000         0.000000   \n",
      "25%                  2.000000       2.000000        2.000000         2.000000   \n",
      "50%                  3.000000       3.000000        3.000000         3.000000   \n",
      "75%                  4.000000       4.000000        4.000000         4.000000   \n",
      "max                  5.000000       5.000000        5.000000         5.000000   \n",
      "\n",
      "        Seat comfort  Inflight entertainment  On-board service  \\\n",
      "count  103904.000000           103904.000000     103904.000000   \n",
      "mean        3.439396                3.358158          3.382363   \n",
      "std         1.319088                1.332991          1.288354   \n",
      "min         0.000000                0.000000          0.000000   \n",
      "25%         2.000000                2.000000          2.000000   \n",
      "50%         4.000000                4.000000          4.000000   \n",
      "75%         5.000000                4.000000          4.000000   \n",
      "max         5.000000                5.000000          5.000000   \n",
      "\n",
      "       Leg room service  Baggage handling  Checkin service  Inflight service  \\\n",
      "count     103904.000000     103904.000000    103904.000000     103904.000000   \n",
      "mean           3.351055          3.631833         3.304290          3.640428   \n",
      "std            1.315605          1.180903         1.265396          1.175663   \n",
      "min            0.000000          1.000000         0.000000          0.000000   \n",
      "25%            2.000000          3.000000         3.000000          3.000000   \n",
      "50%            4.000000          4.000000         3.000000          4.000000   \n",
      "75%            4.000000          5.000000         4.000000          5.000000   \n",
      "max            5.000000          5.000000         5.000000          5.000000   \n",
      "\n",
      "         Cleanliness  Departure Delay in Minutes  Arrival Delay in Minutes  \n",
      "count  103904.000000               103904.000000             103594.000000  \n",
      "mean        3.286351                   14.815618                 15.178678  \n",
      "std         1.312273                   38.230901                 38.698682  \n",
      "min         0.000000                    0.000000                  0.000000  \n",
      "25%         2.000000                    0.000000                  0.000000  \n",
      "50%         3.000000                    0.000000                  0.000000  \n",
      "75%         4.000000                   12.000000                 13.000000  \n",
      "max         5.000000                 1592.000000               1584.000000  \n"
     ]
    }
   ],
   "source": [
    "# Get basic statistics of numeric columns\n",
    "print(df.describe())\n"
   ]
  },
  {
   "cell_type": "code",
   "execution_count": 16,
   "id": "92e03ae8-4192-4800-a0bc-ab1190cf12d5",
   "metadata": {},
   "outputs": [
    {
     "name": "stdout",
     "output_type": "stream",
     "text": [
      "<class 'pandas.core.frame.DataFrame'>\n",
      "RangeIndex: 103904 entries, 0 to 103903\n",
      "Data columns (total 25 columns):\n",
      " #   Column                             Non-Null Count   Dtype  \n",
      "---  ------                             --------------   -----  \n",
      " 0   Unnamed: 0                         103904 non-null  int64  \n",
      " 1   id                                 103904 non-null  int64  \n",
      " 2   Gender                             103904 non-null  object \n",
      " 3   Customer Type                      103904 non-null  object \n",
      " 4   Age                                103904 non-null  int64  \n",
      " 5   Type of Travel                     103904 non-null  object \n",
      " 6   Class                              103904 non-null  object \n",
      " 7   Flight Distance                    103904 non-null  int64  \n",
      " 8   Inflight wifi service              103904 non-null  int64  \n",
      " 9   Departure/Arrival time convenient  103904 non-null  int64  \n",
      " 10  Ease of Online booking             103904 non-null  int64  \n",
      " 11  Gate location                      103904 non-null  int64  \n",
      " 12  Food and drink                     103904 non-null  int64  \n",
      " 13  Online boarding                    103904 non-null  int64  \n",
      " 14  Seat comfort                       103904 non-null  int64  \n",
      " 15  Inflight entertainment             103904 non-null  int64  \n",
      " 16  On-board service                   103904 non-null  int64  \n",
      " 17  Leg room service                   103904 non-null  int64  \n",
      " 18  Baggage handling                   103904 non-null  int64  \n",
      " 19  Checkin service                    103904 non-null  int64  \n",
      " 20  Inflight service                   103904 non-null  int64  \n",
      " 21  Cleanliness                        103904 non-null  int64  \n",
      " 22  Departure Delay in Minutes         103904 non-null  int64  \n",
      " 23  Arrival Delay in Minutes           103594 non-null  float64\n",
      " 24  satisfaction                       103904 non-null  object \n",
      "dtypes: float64(1), int64(19), object(5)\n",
      "memory usage: 19.8+ MB\n",
      "None\n"
     ]
    }
   ],
   "source": [
    "# Check data types and missing values\n",
    "print(df.info())\n"
   ]
  },
  {
   "cell_type": "code",
   "execution_count": 17,
   "id": "dbafddea-c314-4a7c-848a-69e564fca6f3",
   "metadata": {},
   "outputs": [
    {
     "name": "stdout",
     "output_type": "stream",
     "text": [
      "Unnamed: 0                             0\n",
      "id                                     0\n",
      "Gender                                 0\n",
      "Customer Type                          0\n",
      "Age                                    0\n",
      "Type of Travel                         0\n",
      "Class                                  0\n",
      "Flight Distance                        0\n",
      "Inflight wifi service                  0\n",
      "Departure/Arrival time convenient      0\n",
      "Ease of Online booking                 0\n",
      "Gate location                          0\n",
      "Food and drink                         0\n",
      "Online boarding                        0\n",
      "Seat comfort                           0\n",
      "Inflight entertainment                 0\n",
      "On-board service                       0\n",
      "Leg room service                       0\n",
      "Baggage handling                       0\n",
      "Checkin service                        0\n",
      "Inflight service                       0\n",
      "Cleanliness                            0\n",
      "Departure Delay in Minutes             0\n",
      "Arrival Delay in Minutes             310\n",
      "satisfaction                           0\n",
      "dtype: int64\n"
     ]
    }
   ],
   "source": [
    "# Check for missing values\n",
    "print(df.isnull().sum())"
   ]
  },
  {
   "cell_type": "code",
   "execution_count": 18,
   "id": "cd746e3a-0578-4303-bc23-3f5f102effdc",
   "metadata": {},
   "outputs": [
    {
     "name": "stdout",
     "output_type": "stream",
     "text": [
      "        Unnamed: 0      id  Gender  Customer Type  Age  Type of Travel  Class  \\\n",
      "0                0   70172       1              0   13               1      2   \n",
      "1                1    5047       1              1   25               0      0   \n",
      "2                2  110028       0              0   26               0      0   \n",
      "3                3   24026       0              0   25               0      0   \n",
      "4                4  119299       1              0   61               0      0   \n",
      "...            ...     ...     ...            ...  ...             ...    ...   \n",
      "103899      103899   94171       0              1   23               0      1   \n",
      "103900      103900   73097       1              0   49               0      0   \n",
      "103901      103901   68825       1              1   30               0      0   \n",
      "103902      103902   54173       0              1   22               0      1   \n",
      "103903      103903   62567       1              0   27               0      0   \n",
      "\n",
      "        Flight Distance  Inflight wifi service  \\\n",
      "0                   460                      3   \n",
      "1                   235                      3   \n",
      "2                  1142                      2   \n",
      "3                   562                      2   \n",
      "4                   214                      3   \n",
      "...                 ...                    ...   \n",
      "103899              192                      2   \n",
      "103900             2347                      4   \n",
      "103901             1995                      1   \n",
      "103902             1000                      1   \n",
      "103903             1723                      1   \n",
      "\n",
      "        Departure/Arrival time convenient  ...  Inflight entertainment  \\\n",
      "0                                       4  ...                       5   \n",
      "1                                       2  ...                       1   \n",
      "2                                       2  ...                       5   \n",
      "3                                       5  ...                       2   \n",
      "4                                       3  ...                       3   \n",
      "...                                   ...  ...                     ...   \n",
      "103899                                  1  ...                       2   \n",
      "103900                                  4  ...                       5   \n",
      "103901                                  1  ...                       4   \n",
      "103902                                  1  ...                       1   \n",
      "103903                                  3  ...                       1   \n",
      "\n",
      "        On-board service  Leg room service  Baggage handling  Checkin service  \\\n",
      "0                      4                 3                 4                4   \n",
      "1                      1                 5                 3                1   \n",
      "2                      4                 3                 4                4   \n",
      "3                      2                 5                 3                1   \n",
      "4                      3                 4                 4                3   \n",
      "...                  ...               ...               ...              ...   \n",
      "103899                 3                 1                 4                2   \n",
      "103900                 5                 5                 5                5   \n",
      "103901                 3                 2                 4                5   \n",
      "103902                 4                 5                 1                5   \n",
      "103903                 1                 1                 4                4   \n",
      "\n",
      "        Inflight service  Cleanliness  Departure Delay in Minutes  \\\n",
      "0                      5            5                          25   \n",
      "1                      4            1                           1   \n",
      "2                      4            5                           0   \n",
      "3                      4            2                          11   \n",
      "4                      3            3                           0   \n",
      "...                  ...          ...                         ...   \n",
      "103899                 3            2                           3   \n",
      "103900                 5            4                           0   \n",
      "103901                 5            4                           7   \n",
      "103902                 4            1                           0   \n",
      "103903                 3            1                           0   \n",
      "\n",
      "        Arrival Delay in Minutes  satisfaction  \n",
      "0                           18.0             0  \n",
      "1                            6.0             0  \n",
      "2                            0.0             1  \n",
      "3                            9.0             0  \n",
      "4                            0.0             1  \n",
      "...                          ...           ...  \n",
      "103899                       0.0             0  \n",
      "103900                       0.0             1  \n",
      "103901                      14.0             0  \n",
      "103902                       0.0             0  \n",
      "103903                       0.0             0  \n",
      "\n",
      "[103904 rows x 25 columns]\n",
      "        Unnamed: 0      id  Gender      Customer Type  Age   Type of Travel  \\\n",
      "0                0   70172    Male     Loyal Customer   13  Personal Travel   \n",
      "1                1    5047    Male  disloyal Customer   25  Business travel   \n",
      "2                2  110028  Female     Loyal Customer   26  Business travel   \n",
      "3                3   24026  Female     Loyal Customer   25  Business travel   \n",
      "4                4  119299    Male     Loyal Customer   61  Business travel   \n",
      "...            ...     ...     ...                ...  ...              ...   \n",
      "103899      103899   94171  Female  disloyal Customer   23  Business travel   \n",
      "103900      103900   73097    Male     Loyal Customer   49  Business travel   \n",
      "103901      103901   68825    Male  disloyal Customer   30  Business travel   \n",
      "103902      103902   54173  Female  disloyal Customer   22  Business travel   \n",
      "103903      103903   62567    Male     Loyal Customer   27  Business travel   \n",
      "\n",
      "           Class  Flight Distance  Inflight wifi service  \\\n",
      "0       Eco Plus              460                      3   \n",
      "1       Business              235                      3   \n",
      "2       Business             1142                      2   \n",
      "3       Business              562                      2   \n",
      "4       Business              214                      3   \n",
      "...          ...              ...                    ...   \n",
      "103899       Eco              192                      2   \n",
      "103900  Business             2347                      4   \n",
      "103901  Business             1995                      1   \n",
      "103902       Eco             1000                      1   \n",
      "103903  Business             1723                      1   \n",
      "\n",
      "        Departure/Arrival time convenient  ...  Inflight entertainment  \\\n",
      "0                                       4  ...                       5   \n",
      "1                                       2  ...                       1   \n",
      "2                                       2  ...                       5   \n",
      "3                                       5  ...                       2   \n",
      "4                                       3  ...                       3   \n",
      "...                                   ...  ...                     ...   \n",
      "103899                                  1  ...                       2   \n",
      "103900                                  4  ...                       5   \n",
      "103901                                  1  ...                       4   \n",
      "103902                                  1  ...                       1   \n",
      "103903                                  3  ...                       1   \n",
      "\n",
      "        On-board service  Leg room service  Baggage handling  Checkin service  \\\n",
      "0                      4                 3                 4                4   \n",
      "1                      1                 5                 3                1   \n",
      "2                      4                 3                 4                4   \n",
      "3                      2                 5                 3                1   \n",
      "4                      3                 4                 4                3   \n",
      "...                  ...               ...               ...              ...   \n",
      "103899                 3                 1                 4                2   \n",
      "103900                 5                 5                 5                5   \n",
      "103901                 3                 2                 4                5   \n",
      "103902                 4                 5                 1                5   \n",
      "103903                 1                 1                 4                4   \n",
      "\n",
      "        Inflight service  Cleanliness  Departure Delay in Minutes  \\\n",
      "0                      5            5                          25   \n",
      "1                      4            1                           1   \n",
      "2                      4            5                           0   \n",
      "3                      4            2                          11   \n",
      "4                      3            3                           0   \n",
      "...                  ...          ...                         ...   \n",
      "103899                 3            2                           3   \n",
      "103900                 5            4                           0   \n",
      "103901                 5            4                           7   \n",
      "103902                 4            1                           0   \n",
      "103903                 3            1                           0   \n",
      "\n",
      "        Arrival Delay in Minutes             satisfaction  \n",
      "0                           18.0  neutral or dissatisfied  \n",
      "1                            6.0  neutral or dissatisfied  \n",
      "2                            0.0                satisfied  \n",
      "3                            9.0  neutral or dissatisfied  \n",
      "4                            0.0                satisfied  \n",
      "...                          ...                      ...  \n",
      "103899                       0.0  neutral or dissatisfied  \n",
      "103900                       0.0                satisfied  \n",
      "103901                      14.0  neutral or dissatisfied  \n",
      "103902                       0.0  neutral or dissatisfied  \n",
      "103903                       0.0  neutral or dissatisfied  \n",
      "\n",
      "[103904 rows x 25 columns]\n"
     ]
    }
   ],
   "source": [
    "# Handle missing values (e.g., fill with mean, median, or mode)\n",
    "for col in df.columns:\n",
    "    df_encoded[col].fillna(df_encoded[col].mean(), inplace=True)\n",
    "print(df_encoded)\n",
    "print(df)\n"
   ]
  },
  {
   "cell_type": "code",
   "execution_count": 19,
   "id": "27dfd1da-03d2-4dd6-8d0f-086710ebec02",
   "metadata": {},
   "outputs": [
    {
     "data": {
      "image/png": "[encoded data removed]",
      "text/plain": [
       "<Figure size 640x480 with 1 Axes>"
      ]
     },
     "metadata": {},
     "output_type": "display_data"
    }
   ],
   "source": [
    "df['Type of Travel'].hist()\n",
    "plt.xlabel('Numeric Column')\n",
    "plt.ylabel('Frequency')\n",
    "plt.title('Histogram of Numeric Column')\n",
    "plt.show()\n"
   ]
  },
  {
   "cell_type": "code",
   "execution_count": 20,
   "id": "4ddc392f-47d2-4066-8843-8513c943fc88",
   "metadata": {},
   "outputs": [
    {
     "data": {
      "image/png": "[encoded data removed]",
      "text/plain": [
       "<Figure size 640x480 with 1 Axes>"
      ]
     },
     "metadata": {},
     "output_type": "display_data"
    }
   ],
   "source": [
    "import seaborn as sns\n",
    "sns.scatterplot(x=df_encoded['Inflight service'], y=df_encoded['Cleanliness'])\n",
    "plt.xlabel('Inflight Service')\n",
    "plt.ylabel('Cleanliness')\n",
    "plt.title('Scatter Plot of Numeric Columns')\n",
    "plt.show()\n"
   ]
  },
  {
   "cell_type": "code",
   "execution_count": 21,
   "id": "29aa0d1a-488b-4b2c-8a47-c0fb250f3a2a",
   "metadata": {},
   "outputs": [
    {
     "data": {
      "image/png": "[encoded data removed]",
      "text/plain": [
       "<Figure size 640x480 with 1 Axes>"
      ]
     },
     "metadata": {},
     "output_type": "display_data"
    }
   ],
   "source": [
    "sns.boxplot(x=df['Class'], y=df['Cleanliness'])\n",
    "plt.xlabel('Categorical Column')\n",
    "plt.ylabel('Numeric Column')\n",
    "plt.title('Box Plot of Numeric vs. Categorical Column')\n",
    "plt.show()"
   ]
  },
  {
   "cell_type": "code",
   "execution_count": null,
   "id": "772b553b-23bf-4253-ad04-6445f8ea902e",
   "metadata": {},
   "outputs": [],
   "source": [
    "\n"
   ]
  },
  {
   "cell_type": "code",
   "execution_count": null,
   "id": "068a71ef-54c2-4ad3-9b76-312975207623",
   "metadata": {},
   "outputs": [],
   "source": []
  }
 ],
 "metadata": {
  "kernelspec": {
   "display_name": "Python 3 (ipykernel)",
   "language": "python",
   "name": "python3"
  },
  "language_info": {
   "codemirror_mode": {
    "name": "ipython",
    "version": 3
   },
   "file_extension": ".py",
   "mimetype": "text/x-python",
   "name": "python",
   "nbconvert_exporter": "python",
   "pygments_lexer": "ipython3",
   "version": "3.11.7"
  }
 },
 "nbformat": 4,
 "nbformat_minor": 5
}
